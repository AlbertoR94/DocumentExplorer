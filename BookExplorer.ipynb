{
 "cells": [
  {
   "cell_type": "code",
   "execution_count": 10,
   "id": "34136974-8557-4dcb-871d-8c9ec07a20c5",
   "metadata": {},
   "outputs": [],
   "source": [
    "from langchain_community.document_loaders.csv_loader import CSVLoader\n",
    "from langchain_community.document_loaders import PyPDFLoader\n",
    "from langchain_community.document_loaders import PDFMinerLoader\n",
    "\n",
    "from langchain.text_splitter import RecursiveCharacterTextSplitter\n",
    "from langchain_community.embeddings import HuggingFaceEmbeddings\n",
    "from langchain.retrievers import ParentDocumentRetriever\n",
    "from langchain_community.vectorstores import Chroma\n",
    "from langchain.storage import InMemoryStore\n",
    "\n",
    "import os"
   ]
  },
  {
   "cell_type": "code",
   "execution_count": 13,
   "id": "f9278a6d-83a9-40ab-bcd3-eb80be29e06b",
   "metadata": {
    "tags": []
   },
   "outputs": [],
   "source": [
    "from langchain.chains.question_answering import load_qa_chain\n",
    "from langchain import HuggingFaceHub\n",
    "from langchain import PromptTemplate"
   ]
  },
  {
   "cell_type": "code",
   "execution_count": 3,
   "id": "ef1bbac7-4509-4511-9437-bdabd0a93f0e",
   "metadata": {},
   "outputs": [],
   "source": [
    "# !pip install --upgrade --quiet  langchain sentence_transformers"
   ]
  },
  {
   "cell_type": "code",
   "execution_count": 4,
   "id": "ce1e79b3-d4ec-42c8-9d95-4e4354a4ab60",
   "metadata": {},
   "outputs": [],
   "source": [
    "# !pip install chromadb\n",
    "#!pip install pypdf\n",
    "#!pip install pdfminer.six\n",
    "# !pip install huggingface_hub"
   ]
  },
  {
   "cell_type": "code",
   "execution_count": 3,
   "id": "2a2f707d-5a2b-471f-aab3-5b6c24cf7f7b",
   "metadata": {},
   "outputs": [
    {
     "data": {
      "text/plain": [
       "'C:\\\\Users\\\\alber\\\\Documents\\\\Projects\\\\BookRecommendation\\\\Data\\\\test.pdf'"
      ]
     },
     "execution_count": 3,
     "metadata": {},
     "output_type": "execute_result"
    }
   ],
   "source": [
    "WORKING_DIR = os.getcwd()\n",
    "\n",
    "FILE_NAME = \"test.pdf\"\n",
    "FILE_PATH = os.path.join(WORKING_DIR, \"Data\", FILE_NAME)\n",
    "FILE_PATH"
   ]
  },
  {
   "cell_type": "code",
   "execution_count": 4,
   "id": "3d5ac14c-7616-463f-b416-a5eeacd00ee6",
   "metadata": {
    "tags": []
   },
   "outputs": [],
   "source": [
    "loader = PDFMinerLoader(FILE_PATH)\n",
    "#loader = PyPDFLoader(FILE_PATH)\n",
    "pages = loader.load()"
   ]
  },
  {
   "cell_type": "code",
   "execution_count": 5,
   "id": "c59160b3-c498-4031-b253-8d7d4b6d1360",
   "metadata": {
    "tags": []
   },
   "outputs": [
    {
     "data": {
      "text/plain": [
       "2"
      ]
     },
     "execution_count": 5,
     "metadata": {},
     "output_type": "execute_result"
    }
   ],
   "source": [
    "len(pages[0].page_content)"
   ]
  },
  {
   "cell_type": "code",
   "execution_count": 6,
   "id": "f972eb45-ea91-4a91-8d65-7ed4209d8057",
   "metadata": {},
   "outputs": [
    {
     "data": {
      "text/plain": [
       "1"
      ]
     },
     "execution_count": 6,
     "metadata": {},
     "output_type": "execute_result"
    }
   ],
   "source": [
    "len(pages)"
   ]
  },
  {
   "cell_type": "code",
   "execution_count": 21,
   "id": "cc67c0ce-c0ee-4f98-b9bb-361eec9719dd",
   "metadata": {},
   "outputs": [],
   "source": [
    "from langchain_community.document_loaders import WebBaseLoader\n",
    "loader = WebBaseLoader(\"https://www.gutenberg.org/cache/epub/11/pg11-images.html\")\n",
    "\n",
    "pages = loader.load()"
   ]
  },
  {
   "cell_type": "code",
   "execution_count": 22,
   "id": "f4c0d767-8aec-4b03-9a0f-b207bd0591df",
   "metadata": {},
   "outputs": [],
   "source": [
    "# This text splitter is used to create the parent documents\n",
    "parent_splitter = RecursiveCharacterTextSplitter(chunk_size=735, separators=[\"\\n\\n\", \"\\n\", \". \", \"! \", \"? \"])\n",
    "# This text splitter is used to create the child documents\n",
    "# It should create documents smaller than the parent\n",
    "#child_splitter = RecursiveCharacterTextSplitter(chunk_size=100)\n",
    "\n",
    "text_splitter = RecursiveCharacterTextSplitter(\n",
    "    chunk_size=200,\n",
    "    chunk_overlap=10\n",
    "    )"
   ]
  },
  {
   "cell_type": "code",
   "execution_count": 51,
   "id": "7744ead1-9574-4e5d-a95f-6c3b6daedd75",
   "metadata": {},
   "outputs": [],
   "source": [
    "vectorstore = \"None\"\n",
    "vectorstore = Chroma(\n",
    "    collection_name=\"split_parents\", embedding_function=HuggingFaceEmbeddings()\n",
    ")\n",
    "\n",
    "store = InMemoryStore()\n",
    "retriever = ParentDocumentRetriever(\n",
    "    vectorstore=vectorstore,\n",
    "    docstore=store,\n",
    "    parent_splitter=parent_splitter,\n",
    "    child_splitter=text_splitter,\n",
    ")"
   ]
  },
  {
   "cell_type": "code",
   "execution_count": 23,
   "id": "c121a063-1be3-45c7-9db5-be4c33c81b5e",
   "metadata": {},
   "outputs": [],
   "source": [
    "docs = parent_splitter.split_documents(pages)"
   ]
  },
  {
   "cell_type": "code",
   "execution_count": 24,
   "id": "ac49f6f1-9a5c-4152-ac39-d702762acbb5",
   "metadata": {},
   "outputs": [],
   "source": [
    "db = Chroma.from_documents(docs, HuggingFaceEmbeddings())"
   ]
  },
  {
   "cell_type": "code",
   "execution_count": 12,
   "id": "e7cdc0f3-5cd6-472d-ab2b-26c04b7f0682",
   "metadata": {},
   "outputs": [],
   "source": [
    "retriever.add_documents(pages, ids=None)"
   ]
  },
  {
   "cell_type": "code",
   "execution_count": 13,
   "id": "ee3be06d-e108-4c9f-90a2-c0708af9c35a",
   "metadata": {},
   "outputs": [
    {
     "data": {
      "text/plain": [
       "526"
      ]
     },
     "execution_count": 13,
     "metadata": {},
     "output_type": "execute_result"
    }
   ],
   "source": [
    "len(list(store.yield_keys()))"
   ]
  },
  {
   "cell_type": "code",
   "execution_count": 25,
   "id": "a3133ca5-b0ed-4767-a7fc-3d9747eb60e8",
   "metadata": {},
   "outputs": [],
   "source": [
    "retrieved_docs = db.similarity_search(\"What didn't Alice think so very much about?\", k=10)"
   ]
  },
  {
   "cell_type": "code",
   "execution_count": 26,
   "id": "4445f415-d5d6-40a8-bc56-49f924d502c7",
   "metadata": {},
   "outputs": [
    {
     "name": "stdout",
     "output_type": "stream",
     "text": [
      "10\n"
     ]
    }
   ],
   "source": [
    "print(len(retrieved_docs))"
   ]
  },
  {
   "cell_type": "code",
   "execution_count": 27,
   "id": "71c39b9d-0488-492f-9e9c-8a18b1e85a3d",
   "metadata": {},
   "outputs": [
    {
     "data": {
      "text/plain": [
       "[Document(page_content='But her sister sat still just as she left her, leaning her head on her hand,\\r\\nwatching the setting sun, and thinking of little Alice and all her wonderful\\r\\nAdventures, till she too began dreaming after a fashion, and this was her\\r\\ndream:—\\r\\n\\n\\r\\nFirst, she dreamed of little Alice herself, and once again the tiny hands were\\r\\nclasped upon her knee, and the bright eager eyes were looking up into\\r\\nhers—she could hear the very tones of her voice, and see that queer\\r\\nlittle toss of her head to keep back the wandering hair that would\\r\\nalways get into her eyes—and still as she listened, or seemed to listen,\\r\\nthe whole place around her became alive with the strange creatures of her\\r\\nlittle sister’s dream.', metadata={'language': 'en', 'source': 'https://www.gutenberg.org/cache/epub/11/pg11-images.html', 'title': 'The Project Gutenberg eBook of Alice’s Adventures in Wonderland, by Lewis Carroll'}),\n",
       " Document(page_content=\"Lastly, she pictured to herself how this same little sister of hers would, in\\r\\nthe after-time, be herself a grown woman; and how she would keep, through all\\r\\nher riper years, the simple and loving heart of her childhood: and how she\\r\\nwould gather about her other little children, and make their eyes bright\\r\\nand eager with many a strange tale, perhaps even with the dream of Wonderland\\r\\nof long ago: and how she would feel with all their simple sorrows, and find a\\r\\npleasure in all their simple joys, remembering her own child-life, and the\\r\\nhappy summer days.\\r\\n\\nTHE END \\n\\n\\n\\n*** END OF THE PROJECT GUTENBERG EBOOK ALICE'S ADVENTURES IN WONDERLAND ***\", metadata={'language': 'en', 'source': 'https://www.gutenberg.org/cache/epub/11/pg11-images.html', 'title': 'The Project Gutenberg eBook of Alice’s Adventures in Wonderland, by Lewis Carroll'}),\n",
       " Document(page_content='Alice watched the White Rabbit as he fumbled over the list, feeling very\\r\\ncurious to see what the next witness would be like, “—for they\\r\\nhaven’t got much evidence yet,” she said to herself. Imagine\\r\\nher surprise, when the White Rabbit read out, at the top of his shrill little\\r\\nvoice, the name “Alice!”', metadata={'language': 'en', 'source': 'https://www.gutenberg.org/cache/epub/11/pg11-images.html', 'title': 'The Project Gutenberg eBook of Alice’s Adventures in Wonderland, by Lewis Carroll'}),\n",
       " Document(page_content='It was, no doubt: only Alice did not like to be told so. “It’s\\r\\nreally dreadful,” she muttered to herself, “the way all the\\r\\ncreatures argue. It’s enough to drive one crazy!”\\r\\n\\n\\r\\nThe Footman seemed to think this a good opportunity for repeating his remark,\\r\\nwith variations. “I shall sit here,” he said, “on and off,\\r\\nfor days and days.”\\r\\n\\n\\r\\n“But what am I to do?” said Alice.\\r\\n\\n\\r\\n“Anything you like,” said the Footman, and began whistling.\\r\\n\\n\\r\\n“Oh, there’s no use in talking to him,” said Alice\\r\\ndesperately: “he’s perfectly idiotic!” And she opened the\\r\\ndoor and went in.', metadata={'language': 'en', 'source': 'https://www.gutenberg.org/cache/epub/11/pg11-images.html', 'title': 'The Project Gutenberg eBook of Alice’s Adventures in Wonderland, by Lewis Carroll'}),\n",
       " Document(page_content='CHAPTER VI.Pig and Pepper\\n\\n\\n CHAPTER VII.A Mad Tea-Party\\n\\n\\n CHAPTER VIII.The Queen’s Croquet-Ground\\n\\n\\n CHAPTER IX.The Mock Turtle’s Story\\n\\n\\n CHAPTER X.The Lobster Quadrille\\n\\n\\n CHAPTER XI.Who Stole the Tarts?\\n\\n\\n CHAPTER XII.Alice’s Evidence\\n\\n\\n\\nCHAPTER I.\\r\\nDown the Rabbit-Hole\\n\\r\\nAlice was beginning to get very tired of sitting by her sister on the bank, and\\r\\nof having nothing to do: once or twice she had peeped into the book her sister\\r\\nwas reading, but it had no pictures or conversations in it, “and what is\\r\\nthe use of a book,” thought Alice “without pictures or\\r\\nconversations?”', metadata={'language': 'en', 'source': 'https://www.gutenberg.org/cache/epub/11/pg11-images.html', 'title': 'The Project Gutenberg eBook of Alice’s Adventures in Wonderland, by Lewis Carroll'}),\n",
       " Document(page_content='CHAPTER XII.\\r\\nAlice’s Evidence\\n\\r\\n“Here!” cried Alice, quite forgetting in the flurry of the moment\\r\\nhow large she had grown in the last few minutes, and she jumped up in such a\\r\\nhurry that she tipped over the jury-box with the edge of her skirt, upsetting\\r\\nall the jurymen on to the heads of the crowd below, and there they lay\\r\\nsprawling about, reminding her very much of a globe of goldfish she had\\r\\naccidentally upset the week before.', metadata={'language': 'en', 'source': 'https://www.gutenberg.org/cache/epub/11/pg11-images.html', 'title': 'The Project Gutenberg eBook of Alice’s Adventures in Wonderland, by Lewis Carroll'}),\n",
       " Document(page_content='There was nothing so very remarkable in that; nor did Alice think it so\\r\\nvery much out of the way to hear the Rabbit say to itself, “Oh\\r\\ndear! Oh dear! I shall be late!” (when she thought it over afterwards, it\\r\\noccurred to her that she ought to have wondered at this, but at the time it all\\r\\nseemed quite natural); but when the Rabbit actually took a watch out of its\\r\\nwaistcoat-pocket, and looked at it, and then hurried on, Alice started to\\r\\nher feet, for it flashed across her mind that she had never before seen a\\r\\nrabbit with either a waistcoat-pocket, or a watch to take out of it, and\\r\\nburning with curiosity, she ran across the field after it, and fortunately was', metadata={'language': 'en', 'source': 'https://www.gutenberg.org/cache/epub/11/pg11-images.html', 'title': 'The Project Gutenberg eBook of Alice’s Adventures in Wonderland, by Lewis Carroll'}),\n",
       " Document(page_content='When she got back to the Cheshire Cat, she was surprised to find quite a large\\r\\ncrowd collected round it: there was a dispute going on between the executioner,\\r\\nthe King, and the Queen, who were all talking at once, while all the rest were\\r\\nquite silent, and looked very uncomfortable.\\r\\n\\n\\r\\nThe moment Alice appeared, she was appealed to by all three to settle the\\r\\nquestion, and they repeated their arguments to her, though, as they all spoke\\r\\nat once, she found it very hard indeed to make out exactly what they said.', metadata={'language': 'en', 'source': 'https://www.gutenberg.org/cache/epub/11/pg11-images.html', 'title': 'The Project Gutenberg eBook of Alice’s Adventures in Wonderland, by Lewis Carroll'}),\n",
       " Document(page_content='Alice did not dare to disobey, though she felt sure it would all come wrong,\\r\\nand she went on in a trembling voice:—\\r\\n\\n\\r\\n“I passed by his garden, and marked, with one eye,\\r\\nHow the Owl and the Panther were sharing a pie—”\\n\\r\\n[later editions continued as follows\\r\\nThe Panther took pie-crust, and gravy, and meat,\\r\\nWhile the Owl had the dish as its share of the treat.\\r\\nWhen the pie was all finished, the Owl, as a boon,\\r\\nWas kindly permitted to pocket the spoon:\\r\\nWhile the Panther received knife and fork with a growl,\\r\\nAnd concluded the banquet—]\\r\\n\\n\\r\\n“What is the use of repeating all that stuff,” the Mock\\r\\nTurtle interrupted, “if you don’t explain it as you go on?\\r\\nIt’s by far the most confusing thing I ever heard!”', metadata={'language': 'en', 'source': 'https://www.gutenberg.org/cache/epub/11/pg11-images.html', 'title': 'The Project Gutenberg eBook of Alice’s Adventures in Wonderland, by Lewis Carroll'}),\n",
       " Document(page_content='And so she went on, taking first one side and then the other, and making quite\\r\\na conversation of it altogether; but after a few minutes she heard a voice\\r\\noutside, and stopped to listen.\\r\\n\\n\\r\\n“Mary Ann! Mary Ann!” said the voice. “Fetch me my gloves\\r\\nthis moment!” Then came a little pattering of feet on the stairs. Alice\\r\\nknew it was the Rabbit coming to look for her, and she trembled till she shook\\r\\nthe house, quite forgetting that she was now about a thousand times as large as\\r\\nthe Rabbit, and had no reason to be afraid of it.', metadata={'language': 'en', 'source': 'https://www.gutenberg.org/cache/epub/11/pg11-images.html', 'title': 'The Project Gutenberg eBook of Alice’s Adventures in Wonderland, by Lewis Carroll'})]"
      ]
     },
     "execution_count": 27,
     "metadata": {},
     "output_type": "execute_result"
    }
   ],
   "source": [
    "retrieved_docs"
   ]
  },
  {
   "cell_type": "code",
   "execution_count": 76,
   "id": "80abc239-3de1-4365-877f-341ddeefa280",
   "metadata": {},
   "outputs": [],
   "source": [
    "new_retriever = db.as_retriever()"
   ]
  },
  {
   "cell_type": "code",
   "execution_count": 26,
   "id": "3e1baaf9-0499-4613-bb23-1333579243e8",
   "metadata": {},
   "outputs": [
    {
     "name": "stderr",
     "output_type": "stream",
     "text": [
      "Number of requested results 4 is greater than number of elements in index 1, updating n_results = 1\n"
     ]
    }
   ],
   "source": [
    "sub_docs = db.similarity_search(\"What was Alice thinking about a daisy-chain?\")"
   ]
  },
  {
   "cell_type": "code",
   "execution_count": 34,
   "id": "40c7a61c-ec14-457e-8153-681715615188",
   "metadata": {
    "tags": []
   },
   "outputs": [],
   "source": [
    "#print(sub_docs[0].page_content)"
   ]
  },
  {
   "cell_type": "code",
   "execution_count": 80,
   "id": "3f1889f9-e14f-4b0b-9701-626d85739cf0",
   "metadata": {},
   "outputs": [
    {
     "data": {
      "text/plain": [
       "[Document(page_content='So she was considering in her own mind (as well as she could, for the hot day\\r\\nmade her feel very sleepy and stupid), whether the pleasure of making a\\r\\ndaisy-chain would be worth the trouble of getting up and picking the daisies,\\r\\nwhen suddenly a White Rabbit with pink eyes ran close by her.', metadata={'language': 'en', 'source': 'https://www.gutenberg.org/cache/epub/11/pg11-images.html', 'title': 'The Project Gutenberg eBook of Alice’s Adventures in Wonderland, by Lewis Carroll'}),\n",
       " Document(page_content='So she was considering in her own mind (as well as she could, for the hot day\\r\\nmade her feel very sleepy and stupid), whether the pleasure of making a\\r\\ndaisy-chain would be worth the trouble of getting up and picking the daisies,\\r\\nwhen suddenly a White Rabbit with pink eyes ran close by her.', metadata={'language': 'en', 'source': 'https://www.gutenberg.org/cache/epub/11/pg11-images.html', 'title': 'The Project Gutenberg eBook of Alice’s Adventures in Wonderland, by Lewis Carroll'}),\n",
       " Document(page_content='“How queer it seems,” Alice said to herself, “to be going\\r\\nmessages for a rabbit! I suppose Dinah’ll be sending me on messages\\r\\nnext!” And she began fancying the sort of thing that would happen:\\r\\n“‘Miss Alice! Come here directly, and get ready for your\\r\\nwalk!’ ‘Coming in a minute, nurse! But I’ve got to see that\\r\\nthe mouse doesn’t get out.’ Only I don’t think,” Alice\\r\\nwent on, “that they’d let Dinah stop in the house if it began\\r\\nordering people about like that!”', metadata={'language': 'en', 'source': 'https://www.gutenberg.org/cache/epub/11/pg11-images.html', 'title': 'The Project Gutenberg eBook of Alice’s Adventures in Wonderland, by Lewis Carroll'}),\n",
       " Document(page_content='“How queer it seems,” Alice said to herself, “to be going\\r\\nmessages for a rabbit! I suppose Dinah’ll be sending me on messages\\r\\nnext!” And she began fancying the sort of thing that would happen:\\r\\n“‘Miss Alice! Come here directly, and get ready for your\\r\\nwalk!’ ‘Coming in a minute, nurse! But I’ve got to see that\\r\\nthe mouse doesn’t get out.’ Only I don’t think,” Alice\\r\\nwent on, “that they’d let Dinah stop in the house if it began\\r\\nordering people about like that!”', metadata={'language': 'en', 'source': 'https://www.gutenberg.org/cache/epub/11/pg11-images.html', 'title': 'The Project Gutenberg eBook of Alice’s Adventures in Wonderland, by Lewis Carroll'})]"
      ]
     },
     "execution_count": 80,
     "metadata": {},
     "output_type": "execute_result"
    }
   ],
   "source": [
    "new_retriever.get_relevant_documents(\"What was Alice thinking about a daisy-chain?\")"
   ]
  },
  {
   "cell_type": "code",
   "execution_count": 15,
   "id": "ca63a909-8bbe-4c64-a009-5e79e0b374c2",
   "metadata": {},
   "outputs": [
    {
     "name": "stdin",
     "output_type": "stream",
     "text": [
      " ········\n"
     ]
    }
   ],
   "source": [
    "from getpass import getpass\n",
    "\n",
    "HUGGINGFACEHUB_API_TOKEN = getpass()"
   ]
  },
  {
   "cell_type": "code",
   "execution_count": 16,
   "id": "7605c267-b27b-4a88-8bde-4ea51c77ad33",
   "metadata": {},
   "outputs": [],
   "source": [
    "os.environ[\"HUGGINGFACEHUB_API_TOKEN\"] = HUGGINGFACEHUB_API_TOKEN"
   ]
  },
  {
   "cell_type": "code",
   "execution_count": 17,
   "id": "5bbc5ea8-d461-4c70-8661-b2d00345a181",
   "metadata": {
    "tags": []
   },
   "outputs": [],
   "source": [
    "#repo_id = \"google/flan-t5-large\" \n",
    "repo_id = \"declare-lab/flan-alpaca-large\""
   ]
  },
  {
   "cell_type": "code",
   "execution_count": 18,
   "id": "6e35157e-7361-4cc0-a209-75a25846ae79",
   "metadata": {
    "tags": []
   },
   "outputs": [
    {
     "name": "stderr",
     "output_type": "stream",
     "text": [
      "C:\\Users\\alber\\anaconda3\\envs\\LLMApp\\Lib\\site-packages\\tqdm\\auto.py:21: TqdmWarning: IProgress not found. Please update jupyter and ipywidgets. See https://ipywidgets.readthedocs.io/en/stable/user_install.html\n",
      "  from .autonotebook import tqdm as notebook_tqdm\n"
     ]
    }
   ],
   "source": [
    "llm = HuggingFaceHub(\n",
    "    repo_id=repo_id, model_kwargs={\"temperature\": 0.1, \"max_length\": 1000}\n",
    ")"
   ]
  },
  {
   "cell_type": "code",
   "execution_count": 28,
   "id": "b4c62b0b-001b-4ead-b7bd-a40eef980efe",
   "metadata": {},
   "outputs": [],
   "source": [
    "from langchain.chains.combine_documents import create_stuff_documents_chain\n",
    "from langchain.chains import create_retrieval_chain\n",
    "from langchain_core.prompts import ChatPromptTemplate"
   ]
  },
  {
   "cell_type": "code",
   "execution_count": 29,
   "id": "ab6eebe8-d073-489d-84ef-b8138f8cacd0",
   "metadata": {},
   "outputs": [],
   "source": [
    "prompt = ChatPromptTemplate.from_template(\"\"\"Answer the following question based on the provided context.\n",
    "\n",
    "<context>\n",
    "{context}\n",
    "</context>\n",
    "\n",
    "Question: {input}\"\"\")\n",
    "\n",
    "document_chain = create_stuff_documents_chain(llm, prompt)"
   ]
  },
  {
   "cell_type": "code",
   "execution_count": 31,
   "id": "38803c90-3fb5-442c-aa73-fc47af771146",
   "metadata": {},
   "outputs": [],
   "source": [
    "resp = document_chain.invoke({\n",
    "    \"input\": \"What didn't Alice think so very much about?\",\n",
    "    \"context\": retrieved_docs\n",
    "})"
   ]
  },
  {
   "cell_type": "code",
   "execution_count": 33,
   "id": "c4fa85ba-97bf-40b9-8be0-44397159b2c5",
   "metadata": {},
   "outputs": [
    {
     "data": {
      "text/plain": [
       "str"
      ]
     },
     "execution_count": 33,
     "metadata": {},
     "output_type": "execute_result"
    }
   ],
   "source": [
    "type(resp)"
   ]
  },
  {
   "cell_type": "code",
   "execution_count": 77,
   "id": "9149e24e-2b6d-4c26-9096-bb9c6e35b4f7",
   "metadata": {},
   "outputs": [],
   "source": [
    "retrieval_chain = create_retrieval_chain(new_retriever, document_chain)"
   ]
  },
  {
   "cell_type": "code",
   "execution_count": 9,
   "id": "7c3a2782-49b3-4d7e-80fd-f0d5c545a12e",
   "metadata": {},
   "outputs": [
    {
     "ename": "NameError",
     "evalue": "name 'retrieval_chain' is not defined",
     "output_type": "error",
     "traceback": [
      "\u001b[1;31m---------------------------------------------------------------------------\u001b[0m",
      "\u001b[1;31mNameError\u001b[0m                                 Traceback (most recent call last)",
      "Cell \u001b[1;32mIn[9], line 1\u001b[0m\n\u001b[1;32m----> 1\u001b[0m response \u001b[38;5;241m=\u001b[39m \u001b[43mretrieval_chain\u001b[49m\u001b[38;5;241m.\u001b[39minvoke({\u001b[38;5;124m\"\u001b[39m\u001b[38;5;124minput\u001b[39m\u001b[38;5;124m\"\u001b[39m: \u001b[38;5;124m\"\u001b[39m\u001b[38;5;124mWhat didn\u001b[39m\u001b[38;5;124m'\u001b[39m\u001b[38;5;124mt Alice think so very much about?\u001b[39m\u001b[38;5;124m\"\u001b[39m})\n\u001b[0;32m      2\u001b[0m \u001b[38;5;28mprint\u001b[39m(response[\u001b[38;5;124m\"\u001b[39m\u001b[38;5;124manswer\u001b[39m\u001b[38;5;124m\"\u001b[39m])\n",
      "\u001b[1;31mNameError\u001b[0m: name 'retrieval_chain' is not defined"
     ]
    }
   ],
   "source": [
    "response = retrieval_chain.invoke({\"input\": \"What didn't Alice think so very much about?\"})\n",
    "print(response[\"answer\"])"
   ]
  },
  {
   "cell_type": "code",
   "execution_count": 8,
   "id": "12077658-8a79-405d-9a80-3fa1b96655d7",
   "metadata": {},
   "outputs": [
    {
     "ename": "NameError",
     "evalue": "name 'response' is not defined",
     "output_type": "error",
     "traceback": [
      "\u001b[1;31m---------------------------------------------------------------------------\u001b[0m",
      "\u001b[1;31mNameError\u001b[0m                                 Traceback (most recent call last)",
      "Cell \u001b[1;32mIn[8], line 1\u001b[0m\n\u001b[1;32m----> 1\u001b[0m \u001b[38;5;28mlen\u001b[39m(\u001b[43mresponse\u001b[49m[\u001b[38;5;124m\"\u001b[39m\u001b[38;5;124manswer\u001b[39m\u001b[38;5;124m\"\u001b[39m])\n",
      "\u001b[1;31mNameError\u001b[0m: name 'response' is not defined"
     ]
    }
   ],
   "source": [
    "len(response[\"answer\"])"
   ]
  },
  {
   "cell_type": "code",
   "execution_count": 67,
   "id": "d97df156-7408-4da8-8735-457adc614828",
   "metadata": {},
   "outputs": [
    {
     "data": {
      "text/plain": [
       "{'input': 'Explain what is a vector embedding?',\n",
       " 'context': [Document(page_content='(6.4) ...spinach sauteed with garlic over rice...\\n(6.5) ...chard stems and leaves are delicious...\\n(6.6) ...collard greens and other salty leafy greens\\n\\nThe fact that ongchoi occurs with words like rice and garlic and delicious and\\nsalty, as do words like spinach, chard, and collard greens might suggest that ongchoi\\nis a leafy green similar to these other leafy greens.1 We can do the same thing\\ncomputationally by just counting words in the context of ongchoi.\\n\\nThe idea of vector semantics is to represent a word as a point in a multidimen-\\nsional semantic space that is derived (in ways we’ll see) from the distributions of\\nword neighbors. Vectors for representing words are called embeddings (although\\nthe term is sometimes more strictly applied only to dense vectors like word2vec\\n(Section 6.8), rather than sparse tf-idf or PPMI vectors (Section 6.3-Section 6.6)).\\nThe word “embedding” derives from its mathematical sense as a mapping from one\\nspace or structure to another, although the meaning has shifted; see the end of the\\nchapter.\\n\\n1\\n\\nIt’s in fact Ipomoea aquatica, a relative of morning glory sometimes called water spinach in English.\\n\\nembeddings\\n\\n\\x0c6 CHAPTER 6\\n\\n• VECTOR SEMANTICS AND EMBEDDINGS\\n\\nFigure 6.1 A two-dimensional (t-SNE) projection of embeddings for some words and\\nphrases, showing that words with similar meanings are nearby in space. The original 60-\\ndimensional embeddings were trained for sentiment analysis. Simpliﬁed from Li et al. (2015)\\nwith colors added for explanation.\\n\\nFig. 6.1 shows a visualization of embeddings learned for sentiment analysis,\\nshowing the location of selected words projected down from 60-dimensional space\\ninto a two dimensional space. Notice the distinct regions containing positive words,\\nnegative words, and neutral function words.', metadata={'source': 'C:\\\\Users\\\\alber\\\\Documents\\\\Projects\\\\BookRecommendation\\\\Data\\\\embeddings.pdf'}),\n",
       "  Document(page_content='i=1\\n\\n(6.34)\\n\\nThat is, we want to maximize the dot product of the word with the actual context\\nwords, and minimize the dot products of the word with the k negative sampled non-\\nneighbor words.\\n\\nWe minimize this loss function using stochastic gradient descent. Fig. 6.14\\n\\nshows the intuition of one step of learning.\\n\\nTo get the gradient, we need to take the derivative of Eq. 6.34 with respect to\\nthe different embeddings. It turns out the derivatives are the following (we leave the\\n\\n\\x0c22 CHAPTER 6\\n\\n• VECTOR SEMANTICS AND EMBEDDINGS\\n\\nFigure 6.14\\nIntuition of one step of gradient descent. The skip-gram model tries to shift\\nembeddings so the target embeddings (here for apricot) are closer to (have a higher dot prod-\\nuct with) context embeddings for nearby words (here jam) and further from (lower dot product\\nwith) context embeddings for noise words that don’t occur nearby (here Tolstoy and matrix).\\n\\nproof as an exercise at the end of the chapter):\\n\\n∂ LCE\\n∂ cpos\\n∂ LCE\\n∂ cneg\\n\\n∂ LCE\\n∂ w\\n\\n= [σ (cpos · w) − 1]w\\n\\n= [σ (cneg · w)]w\\n\\n= [σ (cpos · w) − 1]cpos +\\n\\nk\\n(cid:88)\\n\\n[σ (cnegi · w)]cnegi\\n\\ni=1\\n\\n(6.35)\\n\\n(6.36)\\n\\n(6.37)\\n\\nThe update equations going from time step t to t + 1 in stochastic gradient descent\\nare thus:\\n\\nct+1\\npos = ct\\nneg = ct\\nct+1\\n\\npos − η[σ (ct\\nneg − η[σ (ct\\n(cid:34)\\n\\npos · wt ) − 1]wt\\nneg · wt )]wt\\n\\nwt+1 = wt − η\\n\\n[σ (ct\\n\\npos · wt ) − 1]ct\\n\\npos +\\n\\n(6.38)\\n\\n(6.39)\\n\\n(6.40)\\n\\n(cid:35)\\n\\n· wt )]ct\\n\\nnegi\\n\\nk\\n(cid:88)\\n\\n[σ (ct\\n\\nnegi\\n\\ni=1\\n\\nJust as in logistic regression, then, the learning algorithm starts with randomly ini-\\ntialized W and C matrices, and then walks through the training corpus using gradient\\ndescent to move W and C so as to minimize the loss in Eq. 6.34 by making the up-\\ndates in (Eq. 6.38)-(Eq. 6.40).', metadata={'source': 'C:\\\\Users\\\\alber\\\\Documents\\\\Projects\\\\BookRecommendation\\\\Data\\\\embeddings.pdf'}),\n",
       "  Document(page_content='\\x0c28 CHAPTER 6\\n\\n• VECTOR SEMANTICS AND EMBEDDINGS\\n\\nNonetheless it is useful to have intrinsic evaluations. The most common metric\\nis to test their performance on similarity, computing the correlation between an\\nalgorithm’s word similarity scores and word similarity ratings assigned by humans.\\nWordSim-353 (Finkelstein et al., 2002) is a commonly used set of ratings from 0\\nto 10 for 353 noun pairs; for example (plane, car) had an average score of 5.77.\\nSimLex-999 (Hill et al., 2015) is a more difﬁcult dataset that quantiﬁes similarity\\n(cup, mug) rather than relatedness (cup, coffee), and including both concrete and\\nabstract adjective, noun and verb pairs. The TOEFL dataset is a set of 80 questions,\\neach consisting of a target word with 4 additional word choices; the task is to choose\\nwhich is the correct synonym, as in the example: Levied is closest in meaning to:\\nimposed, believed, requested, correlated (Landauer and Dumais, 1997). All of these\\ndatasets present words without context.\\n\\nSlightly more realistic are intrinsic similarity tasks that include context. The\\nStanford Contextual Word Similarity (SCWS) dataset (Huang et al., 2012) and the\\nWord-in-Context (WiC) dataset (Pilehvar and Camacho-Collados, 2019) offer richer\\nevaluation scenarios. SCWS gives human judgments on 2,003 pairs of words in their\\nsentential context, while WiC gives target words in two sentential contexts that are\\neither in the same or different senses; see Chapter 23. The semantic textual similarity\\ntask (Agirre et al. 2012, Agirre et al. 2015) evaluates the performance of sentence-\\nlevel similarity algorithms, consisting of a set of pairs of sentences, each pair with\\nhuman-labeled similarity scores.', metadata={'source': 'C:\\\\Users\\\\alber\\\\Documents\\\\Projects\\\\BookRecommendation\\\\Data\\\\embeddings.pdf'}),\n",
       "  Document(page_content='battle\\ngood\\nfool\\nwit\\n\\nAs You Like It\\n1\\n114\\n36\\n20\\n\\nTwelfth Night\\n0\\n80\\n58\\n15\\n\\nJulius Caesar\\n7\\n62\\n1\\n2\\n\\nHenry V\\n13\\n89\\n4\\n3\\n\\nFigure 6.3 The term-document matrix for four words in four Shakespeare plays. The red\\nboxes show that each document is represented as a column vector of length four.\\n\\nWe can think of the vector for a document as a point in |V |-dimensional space;\\nthus the documents in Fig. 6.3 are points in 4-dimensional space. Since 4-dimensional\\nspaces are hard to visualize, Fig. 6.4 shows a visualization in two dimensions; we’ve\\narbitrarily chosen the dimensions corresponding to the words battle and fool.\\n\\nTerm-document matrices were originally deﬁned as a means of ﬁnding similar\\ndocuments for the task of document information retrieval. Two documents that are\\nsimilar will tend to have similar words, and if two documents have similar words\\ntheir column vectors will tend to be similar. The vectors for the comedies As You\\nLike It [1,114,36,20] and Twelfth Night [0,80,58,15] look a lot more like each other\\n(more fools and wit than battles) than they look like Julius Caesar [7,62,1,2] or\\nHenry V [13,89,4,3]. This is clear with the raw numbers; in the ﬁrst dimension\\n(battle) the comedies have low numbers and the others have high numbers, and we\\ncan see it visually in Fig. 6.4; we’ll see very shortly how to quantify this intuition\\nmore formally.\\n\\nA real term-document matrix, of course, wouldn’t just have 4 rows and columns,\\nlet alone 2. More generally, the term-document matrix has |V | rows (one for each\\nword type in the vocabulary) and D columns (one for each document in the collec-\\n\\n\\x0c8 CHAPTER 6\\n\\n• VECTOR SEMANTICS AND EMBEDDINGS\\n\\nFigure 6.4 A spatial visualization of the document vectors for the four Shakespeare play\\ndocuments, showing just two of the dimensions, corresponding to the words battle and fool.\\nThe comedies have high values for the fool dimension and low values for the battle dimension.\\n\\ninformation\\nretrieval', metadata={'source': 'C:\\\\Users\\\\alber\\\\Documents\\\\Projects\\\\BookRecommendation\\\\Data\\\\embeddings.pdf'})],\n",
       " 'answer': 'The word “embedding” derives from its mathematical sense as a mapping from'}"
      ]
     },
     "execution_count": 67,
     "metadata": {},
     "output_type": "execute_result"
    }
   ],
   "source": [
    "response"
   ]
  },
  {
   "cell_type": "code",
   "execution_count": 68,
   "id": "962788de-c333-45d8-bc9a-315c5908a53a",
   "metadata": {},
   "outputs": [],
   "source": [
    "prompt_template = \"\"\"Use the following pieces of context to answer the question at the end. \n",
    "            If you don't know the answer, just say that you don't know, don't try to make up an answer.\n",
    "            If the question is similar to [Talk me about the document], \n",
    "            the response should be a summary commenting on the most important points about the document\n",
    "\n",
    "\n",
    "            {context}\n",
    "            Question: {question}\n",
    "            \"\"\"\n",
    "PROMPT = PromptTemplate(\n",
    "    template=prompt_template, input_variables=[\"context\", \"question\"]\n",
    ")"
   ]
  },
  {
   "cell_type": "code",
   "execution_count": 78,
   "id": "f0a32253-6401-481f-9c4b-2c15b4ed5af7",
   "metadata": {},
   "outputs": [],
   "source": [
    "qa_chain = load_qa_chain(llm, chain_type=\"stuff\", prompt = PROMPT)"
   ]
  },
  {
   "cell_type": "code",
   "execution_count": 79,
   "id": "8f23018e-a3e7-4428-95d5-157835fbd4e9",
   "metadata": {},
   "outputs": [],
   "source": [
    "question = \"What is the a word embedding\""
   ]
  },
  {
   "cell_type": "code",
   "execution_count": 80,
   "id": "fc21e94a-e571-4cc8-9ad8-ab5982b6f270",
   "metadata": {},
   "outputs": [],
   "source": [
    "response = qa_chain({\"input_documents\": retrieved_docs, \"question\": question}, return_only_outputs=True)"
   ]
  },
  {
   "cell_type": "code",
   "execution_count": 81,
   "id": "4a1f6ff7-95c6-4238-9ea3-91fcad3a8e7c",
   "metadata": {},
   "outputs": [
    {
     "data": {
      "text/plain": [
       "{'output_text': 'In LSA, the word embedding seems to have described the mapping from the space of'}"
      ]
     },
     "execution_count": 81,
     "metadata": {},
     "output_type": "execute_result"
    }
   ],
   "source": [
    "response"
   ]
  },
  {
   "cell_type": "code",
   "execution_count": 163,
   "id": "4edab10c-96a7-4a05-a0ef-ee458c2aa994",
   "metadata": {},
   "outputs": [
    {
     "data": {
      "text/plain": [
       "[Document(page_content='These word representations are also the ﬁrst example in this book of repre-\\nsentation learning, automatically learning useful representations of the input text.\\nFinding such self-supervised ways to learn representations of the input, instead of\\ncreating representations by hand via feature engineering, is an important focus of\\nNLP research (Bengio et al., 2013).\\n\\ndistributional\\nhypothesis', metadata={'source': 'C:\\\\Users\\\\alber\\\\Documents\\\\Projects\\\\BookRecommendation\\\\Data\\\\embeddings.pdf'})]"
      ]
     },
     "execution_count": 163,
     "metadata": {},
     "output_type": "execute_result"
    }
   ],
   "source": [
    "retrieved_docs"
   ]
  },
  {
   "cell_type": "code",
   "execution_count": 10,
   "id": "c5f64d37-fbdb-4079-9278-8988a10cc3a5",
   "metadata": {},
   "outputs": [],
   "source": [
    "context = \"\"\"Alice was beginning to get very tired of sitting by her sister on the bank, and of having nothing to do: once or twice she had peeped into the book her sister was reading, but it had no pictures or conversations in it, “and what is the use of a book,” thought Alice “without pictures or conversations?”\n",
    "So she was considering in her own mind (as well as she could, for the hot day made her feel very sleepy and stupid), whether the pleasure of making a daisy-chain would be worth the trouble of getting up and picking the daisies, when suddenly a White Rabbit with pink eyes ran close by her.\n",
    "There was nothing so very remarkable in that; nor did Alice think it so very much out of the way to hear the Rabbit say to itself, “Oh dear! Oh dear! I shall be late!” (when she thought it over afterwards, it occurred to her that she ought to have wondered at this, but at the time it all seemed quite natural); but when the Rabbit actually took a watch out of its waistcoat-pocket, and looked at it, and then hurried on, Alice started to her feet, for it flashed across her mind that she had never before seen a rabbit with either a waistcoat-pocket, or a watch to take out of it, and burning with curiosity, she ran across the field after it, and fortunately was just in time to see it pop down a large rabbit-hole under the hedge.\n",
    "In another moment down went Alice after it, never once considering how in the world she was to get out again.\n",
    "The rabbit-hole went straight on like a tunnel for some way, and then dipped suddenly down, so suddenly that Alice had not a moment to think about stopping herself before she found herself falling down a very deep well.\n",
    "Either the well was very deep, or she fell very slowly, for she had plenty of time as she went down to look about her and to wonder what was going to happen next. First, she tried to look down and make out what she was coming to, but it was too dark to see anything; then she looked at the sides of the well, and noticed that they were filled with cupboards and book-shelves; here and there she saw maps and pictures hung upon pegs. She took down a jar from one of the shelves as she passed; it was labelled “ORANGE MARMALADE”, but to her great disappointment it was empty: she did not like to drop the jar for fear of killing somebody underneath, so managed to put it into one of the cupboards as she fell past it.\"\"\""
   ]
  },
  {
   "cell_type": "code",
   "execution_count": 12,
   "id": "dadf7381-bce2-45fe-ae70-29d7369dcb64",
   "metadata": {},
   "outputs": [],
   "source": [
    "from langchain.docstore.document import Document"
   ]
  },
  {
   "cell_type": "code",
   "execution_count": 13,
   "id": "fe343537-e7a5-47d3-8295-569f37f9623e",
   "metadata": {},
   "outputs": [],
   "source": [
    "doc = Document(page_content=context)"
   ]
  },
  {
   "cell_type": "code",
   "execution_count": 14,
   "id": "28a0cc50-90d6-4e62-996b-a179f75604f3",
   "metadata": {},
   "outputs": [
    {
     "data": {
      "text/plain": [
       "Document(page_content='Alice was beginning to get very tired of sitting by her sister on the bank, and of having nothing to do: once or twice she had peeped into the book her sister was reading, but it had no pictures or conversations in it, “and what is the use of a book,” thought Alice “without pictures or conversations?”\\nSo she was considering in her own mind (as well as she could, for the hot day made her feel very sleepy and stupid), whether the pleasure of making a daisy-chain would be worth the trouble of getting up and picking the daisies, when suddenly a White Rabbit with pink eyes ran close by her.\\nThere was nothing so very remarkable in that; nor did Alice think it so very much out of the way to hear the Rabbit say to itself, “Oh dear! Oh dear! I shall be late!” (when she thought it over afterwards, it occurred to her that she ought to have wondered at this, but at the time it all seemed quite natural); but when the Rabbit actually took a watch out of its waistcoat-pocket, and looked at it, and then hurried on, Alice started to her feet, for it flashed across her mind that she had never before seen a rabbit with either a waistcoat-pocket, or a watch to take out of it, and burning with curiosity, she ran across the field after it, and fortunately was just in time to see it pop down a large rabbit-hole under the hedge.\\nIn another moment down went Alice after it, never once considering how in the world she was to get out again.\\nThe rabbit-hole went straight on like a tunnel for some way, and then dipped suddenly down, so suddenly that Alice had not a moment to think about stopping herself before she found herself falling down a very deep well.\\nEither the well was very deep, or she fell very slowly, for she had plenty of time as she went down to look about her and to wonder what was going to happen next. First, she tried to look down and make out what she was coming to, but it was too dark to see anything; then she looked at the sides of the well, and noticed that they were filled with cupboards and book-shelves; here and there she saw maps and pictures hung upon pegs. She took down a jar from one of the shelves as she passed; it was labelled “ORANGE MARMALADE”, but to her great disappointment it was empty: she did not like to drop the jar for fear of killing somebody underneath, so managed to put it into one of the cupboards as she fell past it.')"
      ]
     },
     "execution_count": 14,
     "metadata": {},
     "output_type": "execute_result"
    }
   ],
   "source": [
    "doc"
   ]
  },
  {
   "cell_type": "code",
   "execution_count": 16,
   "id": "8c6a655a-b7f7-4b32-9ac1-0f8c4a69423e",
   "metadata": {},
   "outputs": [
    {
     "data": {
      "text/plain": [
       "'Alice ended up in Wonderland by running after a rabbit and falling down a deep'"
      ]
     },
     "execution_count": 16,
     "metadata": {},
     "output_type": "execute_result"
    }
   ],
   "source": [
    "resp = document_chain.invoke({\n",
    "    \"input\": \"How did Alice end up in Wonderland?\",\n",
    "    \"context\": [doc]\n",
    "})\n",
    "\n",
    "resp"
   ]
  },
  {
   "cell_type": "code",
   "execution_count": 18,
   "id": "1b31a696-ebcc-4ef6-96e6-52b5c5cb4185",
   "metadata": {},
   "outputs": [
    {
     "data": {
      "text/plain": [
       "78"
      ]
     },
     "execution_count": 18,
     "metadata": {},
     "output_type": "execute_result"
    }
   ],
   "source": [
    "len(resp)"
   ]
  },
  {
   "cell_type": "code",
   "execution_count": 20,
   "id": "b68db490-4c8d-4d30-8cd2-b3960f970210",
   "metadata": {},
   "outputs": [
    {
     "data": {
      "text/plain": [
       "2372"
      ]
     },
     "execution_count": 20,
     "metadata": {},
     "output_type": "execute_result"
    }
   ],
   "source": [
    "len(context)"
   ]
  },
  {
   "cell_type": "code",
   "execution_count": 39,
   "id": "bd832fa1-823e-4cbd-a4ab-d778c663e85c",
   "metadata": {},
   "outputs": [
    {
     "data": {
      "text/plain": [
       "'Alice was bored and decided to make a daisy-chain. She was surprised when'"
      ]
     },
     "execution_count": 39,
     "metadata": {},
     "output_type": "execute_result"
    }
   ],
   "source": [
    "resp = document_chain.invoke({\n",
    "    \"input\": \"Please provide a summary of context\",\n",
    "    \"context\": [doc]\n",
    "})\n",
    "\n",
    "resp"
   ]
  },
  {
   "cell_type": "code",
   "execution_count": 42,
   "id": "5e55cedb-0679-4019-871d-af247dbdc8d0",
   "metadata": {},
   "outputs": [],
   "source": [
    "import requests\n",
    "\n",
    "sess = requests.session()"
   ]
  },
  {
   "cell_type": "code",
   "execution_count": 43,
   "id": "e0ac442d-44ba-4bbf-87c3-f5e14187d310",
   "metadata": {},
   "outputs": [],
   "source": [
    "query = \"How was the jar on the shelves labelled?\"\n",
    "web_path = \"https://www.gutenberg.org/cache/epub/11/pg11-images.html\"\n",
    "\n",
    "json_file = {\"web_path\": web_path}#, \"query\": query}\n",
    "req = sess.post(\"http://127.0.0.1:5000/predict\", json=json_file)"
   ]
  },
  {
   "cell_type": "code",
   "execution_count": 44,
   "id": "001103cc-32a5-44a8-82f3-fb500f8d4954",
   "metadata": {},
   "outputs": [
    {
     "data": {
      "text/plain": [
       "<Response [200]>"
      ]
     },
     "execution_count": 44,
     "metadata": {},
     "output_type": "execute_result"
    }
   ],
   "source": [
    "req"
   ]
  },
  {
   "cell_type": "code",
   "execution_count": 45,
   "id": "f0c65f07-088f-443b-a9b1-52e5fcca179d",
   "metadata": {},
   "outputs": [
    {
     "data": {
      "text/plain": [
       "{'response': 'Initialized',\n",
       " 'test': [\"The Project Gutenberg eBook of Alice’s Adventures in Wonderland, by Lewis Carroll\\n\\n\\n\\n\\n\\n\\n\\n\\n\\n\\n\\n\\n\\n\\n\\n\\n\\n\\n\\n\\n\\n\\nThe Project Gutenberg eBook of Alice's Adventures in Wonderland\\nThis ebook is for the use of anyone anywhere in the United States and\\r\\nmost other parts of the world at no cost and with almost no restrictions\\r\\nwhatsoever. You may copy it, give it away or re-use it under the terms\\r\\nof the Project Gutenberg License included with this ebook or online\\r\\nat www.gutenberg.org. If you are not located in the United States,\\r\\nyou will have to check the laws of the country where you are located\\r\\nbefore using this eBook.\\nTitle: Alice's Adventures in Wonderland\\n\\nAuthor: Lewis Carroll\",\n",
       "  \"Author: Lewis Carroll\\n\\nRelease date: June 27, 2008 [eBook #11]\\r\\n                Most recently updated: February 4, 2024\\nLanguage: English\\nCredits: Arthur DiBianca and David Widger\\n\\n*** START OF THE PROJECT GUTENBERG EBOOK ALICE'S ADVENTURES IN WONDERLAND ***\\n\\n\\n\\n\\nAlice’s Adventures in Wonderland\\nby Lewis Carroll\\nTHE MILLENNIUM FULCRUM EDITION 3.0\\n\\nContents\\n\\n\\n CHAPTER I.Down the Rabbit-Hole\\n\\n\\n CHAPTER II.The Pool of Tears\\n\\n\\n CHAPTER III.A Caucus-Race and a Long Tale\\n\\n\\n CHAPTER IV.The Rabbit Sends in a Little Bill\\n\\n\\n CHAPTER V.Advice from a Caterpillar\\n\\n\\n CHAPTER VI.Pig and Pepper\\n\\n\\n CHAPTER VII.A Mad Tea-Party\\n\\n\\n CHAPTER VIII.The Queen’s Croquet-Ground\\n\\n\\n CHAPTER IX.The Mock Turtle’s Story\\n\\n\\n CHAPTER X.The Lobster Quadrille\",\n",
       "  'CHAPTER VI.Pig and Pepper\\n\\n\\n CHAPTER VII.A Mad Tea-Party\\n\\n\\n CHAPTER VIII.The Queen’s Croquet-Ground\\n\\n\\n CHAPTER IX.The Mock Turtle’s Story\\n\\n\\n CHAPTER X.The Lobster Quadrille\\n\\n\\n CHAPTER XI.Who Stole the Tarts?\\n\\n\\n CHAPTER XII.Alice’s Evidence\\n\\n\\n\\nCHAPTER I.\\r\\nDown the Rabbit-Hole\\n\\r\\nAlice was beginning to get very tired of sitting by her sister on the bank, and\\r\\nof having nothing to do: once or twice she had peeped into the book her sister\\r\\nwas reading, but it had no pictures or conversations in it, “and what is\\r\\nthe use of a book,” thought Alice “without pictures or\\r\\nconversations?”']}"
      ]
     },
     "execution_count": 45,
     "metadata": {},
     "output_type": "execute_result"
    }
   ],
   "source": [
    "req.json()"
   ]
  },
  {
   "cell_type": "code",
   "execution_count": null,
   "id": "551874f9-e744-4736-96e3-6c691086bdfb",
   "metadata": {},
   "outputs": [],
   "source": []
  },
  {
   "cell_type": "code",
   "execution_count": 37,
   "id": "d9bb41e4-b22a-4c32-9b37-d749236255b4",
   "metadata": {},
   "outputs": [],
   "source": [
    "query = \"What didn't Alice think so very much about?\"\n",
    "web_path = \"https://www.gutenberg.org/cache/epub/11/pg11-images.html\"\n",
    "\n",
    "json_file = {\"web_path\": web_path, \"query\": query}"
   ]
  },
  {
   "cell_type": "code",
   "execution_count": 40,
   "id": "3ab610ef-1bee-4f2a-96b7-9ad541a89977",
   "metadata": {},
   "outputs": [],
   "source": [
    "req = sess.post(\"http://127.0.0.1:5000/predict\", json=json_file)"
   ]
  },
  {
   "cell_type": "code",
   "execution_count": 41,
   "id": "4caa6acc-bd51-43f6-ac69-7f09a021e9f7",
   "metadata": {},
   "outputs": [
    {
     "data": {
      "text/plain": [
       "{'response': \"Alice didn't think so much about her sister.\", 'test': None}"
      ]
     },
     "execution_count": 41,
     "metadata": {},
     "output_type": "execute_result"
    }
   ],
   "source": [
    "req.json()"
   ]
  },
  {
   "cell_type": "code",
   "execution_count": 17,
   "id": "cb74b846-4239-4cec-9353-5518389c8d93",
   "metadata": {},
   "outputs": [
    {
     "data": {
      "text/plain": [
       "{'headers': {'User-Agent': 'python-requests/2.31.0', 'Accept-Encoding': 'gzip, deflate', 'Accept': '*/*', 'Connection': 'keep-alive'},\n",
       " 'auth': None,\n",
       " 'proxies': {},\n",
       " 'hooks': {'response': []},\n",
       " 'params': {},\n",
       " 'stream': False,\n",
       " 'verify': True,\n",
       " 'cert': None,\n",
       " 'max_redirects': 30,\n",
       " 'trust_env': True,\n",
       " 'cookies': <RequestsCookieJar[Cookie(version=0, name='session', value='eyJfcGVybWFuZW50Ijp0cnVlLCJtb2RlbCI6MX0.ZcUlIA.iagyYXt_kIR2zC4zGzF3Dhc1ygU', port=None, port_specified=False, domain='127.0.0.1', domain_specified=False, domain_initial_dot=False, path='/', path_specified=True, secure=False, expires=1707419512, discard=False, comment=None, comment_url=None, rest={'HttpOnly': None}, rfc2109=False)]>,\n",
       " 'adapters': OrderedDict([('https://',\n",
       "               <requests.adapters.HTTPAdapter at 0x157ffc12450>),\n",
       "              ('http://', <requests.adapters.HTTPAdapter at 0x157810f76d0>)])}"
      ]
     },
     "execution_count": 17,
     "metadata": {},
     "output_type": "execute_result"
    }
   ],
   "source": [
    "sess.__dict__"
   ]
  },
  {
   "cell_type": "code",
   "execution_count": 21,
   "id": "435f2478-053c-4673-b11b-817e91e377e4",
   "metadata": {},
   "outputs": [
    {
     "data": {
      "text/plain": [
       "<RequestsCookieJar[Cookie(version=0, name='session', value='eyJfcGVybWFuZW50Ijp0cnVlLCJtb2RlbCI6MX0.ZcUlIA.iagyYXt_kIR2zC4zGzF3Dhc1ygU', port=None, port_specified=False, domain='127.0.0.1', domain_specified=False, domain_initial_dot=False, path='/', path_specified=True, secure=False, expires=1707419512, discard=False, comment=None, comment_url=None, rest={'HttpOnly': None}, rfc2109=False)]>"
      ]
     },
     "execution_count": 21,
     "metadata": {},
     "output_type": "execute_result"
    }
   ],
   "source": [
    "req.cookies"
   ]
  },
  {
   "cell_type": "code",
   "execution_count": 23,
   "id": "92ec9735-a32e-4437-a185-f496f2c6f15a",
   "metadata": {},
   "outputs": [
    {
     "data": {
      "text/plain": [
       "{'headers': {'User-Agent': 'python-requests/2.31.0', 'Accept-Encoding': 'gzip, deflate', 'Accept': '*/*', 'Connection': 'keep-alive'},\n",
       " 'auth': None,\n",
       " 'proxies': {},\n",
       " 'hooks': {'response': []},\n",
       " 'params': {},\n",
       " 'stream': False,\n",
       " 'verify': True,\n",
       " 'cert': None,\n",
       " 'max_redirects': 30,\n",
       " 'trust_env': True,\n",
       " 'cookies': <RequestsCookieJar[Cookie(version=0, name='session', value='eyJfcGVybWFuZW50Ijp0cnVlLCJtb2RlbCI6MX0.ZcUlIA.iagyYXt_kIR2zC4zGzF3Dhc1ygU', port=None, port_specified=False, domain='127.0.0.1', domain_specified=False, domain_initial_dot=False, path='/', path_specified=True, secure=False, expires=1707419512, discard=False, comment=None, comment_url=None, rest={'HttpOnly': None}, rfc2109=False)]>,\n",
       " 'adapters': OrderedDict([('https://',\n",
       "               <requests.adapters.HTTPAdapter at 0x157ffc12450>),\n",
       "              ('http://', <requests.adapters.HTTPAdapter at 0x157810f76d0>)])}"
      ]
     },
     "execution_count": 23,
     "metadata": {},
     "output_type": "execute_result"
    }
   ],
   "source": [
    "sess.__dict__"
   ]
  },
  {
   "cell_type": "code",
   "execution_count": null,
   "id": "0c0290f6-56d0-4405-a8f0-84ad0d8f3c80",
   "metadata": {},
   "outputs": [],
   "source": []
  }
 ],
 "metadata": {
  "kernelspec": {
   "display_name": "Python 3 (ipykernel)",
   "language": "python",
   "name": "python3"
  },
  "language_info": {
   "codemirror_mode": {
    "name": "ipython",
    "version": 3
   },
   "file_extension": ".py",
   "mimetype": "text/x-python",
   "name": "python",
   "nbconvert_exporter": "python",
   "pygments_lexer": "ipython3",
   "version": "3.11.7"
  }
 },
 "nbformat": 4,
 "nbformat_minor": 5
}
